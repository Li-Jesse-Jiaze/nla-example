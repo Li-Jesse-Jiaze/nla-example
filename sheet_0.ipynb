{
 "cells": [
  {
   "cell_type": "markdown",
   "id": "47d634ba",
   "metadata": {},
   "source": [
    "# Example: `hypot`\n",
    "\n",
    "We compute the Euclidean norm of a 2D vector $(x, y)$:\n"
   ]
  },
  {
   "cell_type": "code",
   "execution_count": 1,
   "id": "564defdc",
   "metadata": {},
   "outputs": [],
   "source": [
    "import math\n",
    "import pytest\n",
    "import ipytest\n",
    "import numpy as np\n",
    "\n",
    "ipytest.autoconfig()"
   ]
  },
  {
   "cell_type": "markdown",
   "id": "f05bc3f6",
   "metadata": {},
   "source": [
    "## Implementations"
   ]
  },
  {
   "cell_type": "code",
   "execution_count": 2,
   "id": "21b52dc0",
   "metadata": {},
   "outputs": [],
   "source": [
    "def hypot(x: float, y: float) -> float:\n",
    "    return math.sqrt(x * x + y * y)"
   ]
  },
  {
   "cell_type": "markdown",
   "id": "5f4b1854",
   "metadata": {},
   "source": [
    "## Experiment"
   ]
  },
  {
   "cell_type": "code",
   "execution_count": 3,
   "id": "e7e1dd0b",
   "metadata": {},
   "outputs": [
    {
     "name": "stdout",
     "output_type": "stream",
     "text": [
      "\u001b[32m.\u001b[0m\u001b[32m.\u001b[0m\u001b[32m.\u001b[0m\u001b[31mF\u001b[0m\u001b[32m.\u001b[0m\u001b[31m                                                                                        [100%]\u001b[0m\n",
      "============================================= FAILURES =============================================\n",
      "\u001b[31m\u001b[1m_________________________________ test_hypot_cases[1e+308-1e+308] __________________________________\u001b[0m\n",
      "\n",
      "x = 1e+308, y = 1e+308\n",
      "\n",
      "    \u001b[0m\u001b[37m@pytest\u001b[39;49;00m.mark.parametrize(\u001b[33m\"\u001b[39;49;00m\u001b[33mx, y\u001b[39;49;00m\u001b[33m\"\u001b[39;49;00m, test_cases)\u001b[90m\u001b[39;49;00m\n",
      "    \u001b[94mdef\u001b[39;49;00m\u001b[90m \u001b[39;49;00m\u001b[92mtest_hypot_cases\u001b[39;49;00m(x, y):\u001b[90m\u001b[39;49;00m\n",
      "        naive = hypot(x, y)\u001b[90m\u001b[39;49;00m\n",
      "        ref = \u001b[96mfloat\u001b[39;49;00m(np.hypot(x, y))\u001b[90m\u001b[39;49;00m\n",
      "        rel_err = \u001b[96mabs\u001b[39;49;00m(naive - ref) / \u001b[96mmax\u001b[39;49;00m(\u001b[94m1.0\u001b[39;49;00m, \u001b[96mabs\u001b[39;49;00m(ref))\u001b[90m\u001b[39;49;00m\n",
      ">       \u001b[94massert\u001b[39;49;00m rel_err < TOL\u001b[90m\u001b[39;49;00m\n",
      "\u001b[1m\u001b[31mE       assert inf < 1e-12\u001b[0m\n",
      "\n",
      "\u001b[1m\u001b[31m/var/folders/57/pnx444_s0j54vc7rxdm_jn0c0000gp/T/ipykernel_60090/3563899043.py\u001b[0m:16: AssertionError\n",
      "\u001b[36m\u001b[1m===================================== short test summary info ======================================\u001b[0m\n",
      "\u001b[31mFAILED\u001b[0m t_82eafd17fe6a4eafaa24d96026a05f69.py::\u001b[1mtest_hypot_cases[1e+308-1e+308]\u001b[0m - assert inf < 1e-12\n",
      "\u001b[31m\u001b[31m\u001b[1m1 failed\u001b[0m, \u001b[32m4 passed\u001b[0m\u001b[31m in 0.04s\u001b[0m\u001b[0m\n"
     ]
    },
    {
     "data": {
      "text/plain": [
       "<ExitCode.TESTS_FAILED: 1>"
      ]
     },
     "execution_count": 3,
     "metadata": {},
     "output_type": "execute_result"
    }
   ],
   "source": [
    "test_cases = [\n",
    "    (3.0, 4.0),\n",
    "    (1e-200, 1e-200),\n",
    "    (1.0, 1e-16),\n",
    "    (1e308, 1e308),\n",
    "    (0.0, 0.0),\n",
    "]\n",
    "\n",
    "TOL = 1e-12\n",
    "\n",
    "@pytest.mark.parametrize(\"x, y\", test_cases)\n",
    "def test_hypot_cases(x, y):\n",
    "    naive = hypot(x, y)\n",
    "    ref = float(np.hypot(x, y))\n",
    "    rel_err = abs(naive - ref) / max(1.0, abs(ref))\n",
    "    assert rel_err < TOL\n",
    "\n",
    "ipytest.run()"
   ]
  },
  {
   "cell_type": "markdown",
   "id": "65b36015",
   "metadata": {},
   "source": [
    "## Observations"
   ]
  },
  {
   "cell_type": "code",
   "execution_count": null,
   "id": "01fc88c9",
   "metadata": {},
   "outputs": [],
   "source": []
  }
 ],
 "metadata": {
  "kernelspec": {
   "display_name": "Python 3 (ipykernel)",
   "language": "python",
   "name": "python3"
  },
  "language_info": {
   "codemirror_mode": {
    "name": "ipython",
    "version": 3
   },
   "file_extension": ".py",
   "mimetype": "text/x-python",
   "name": "python",
   "nbconvert_exporter": "python",
   "pygments_lexer": "ipython3",
   "version": "3.12.11"
  }
 },
 "nbformat": 4,
 "nbformat_minor": 5
}
