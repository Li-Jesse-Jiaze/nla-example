{
 "cells": [
  {
   "cell_type": "markdown",
   "id": "47d634ba",
   "metadata": {},
   "source": [
    "# Example: `hypot`\n",
    "\n",
    "We compute the Euclidean norm of a 2D vector $(x, y)$\n",
    "\n",
    "$$\n",
    "|| (x, y) ||_2 = \\sqrt{x^2 + y^2}\n",
    "$$\n",
    "\n"
   ]
  },
  {
   "cell_type": "code",
   "execution_count": 1,
   "id": "564defdc",
   "metadata": {},
   "outputs": [],
   "source": [
    "import math\n",
    "import pytest\n",
    "import ipytest\n",
    "\n",
    "ipytest.autoconfig()"
   ]
  },
  {
   "cell_type": "markdown",
   "id": "f05bc3f6",
   "metadata": {},
   "source": [
    "## Implementations"
   ]
  },
  {
   "cell_type": "code",
   "execution_count": 2,
   "id": "21b52dc0",
   "metadata": {},
   "outputs": [],
   "source": [
    "def hypot(x: float, y: float) -> float:\n",
    "    return math.sqrt(x * x + y * y)"
   ]
  },
  {
   "cell_type": "markdown",
   "id": "5f4b1854",
   "metadata": {},
   "source": [
    "## Experiment"
   ]
  },
  {
   "cell_type": "code",
   "execution_count": 3,
   "id": "e7e1dd0b",
   "metadata": {},
   "outputs": [
    {
     "name": "stdout",
     "output_type": "stream",
     "text": [
      "\u001b[32m.\u001b[0m\u001b[31mF\u001b[0m\u001b[32m.\u001b[0m\u001b[31mF\u001b[0m\u001b[32m.\u001b[0m\u001b[31m                                                                                        [100%]\u001b[0m\n",
      "============================================= FAILURES =============================================\n",
      "\u001b[31m\u001b[1m_________________________________ test_hypot_cases[1e-200-1e-200] __________________________________\u001b[0m\n",
      "\n",
      "x = 1e-200, y = 1e-200\n",
      "\n",
      "    \u001b[0m\u001b[37m@pytest\u001b[39;49;00m.mark.parametrize(\u001b[33m\"\u001b[39;49;00m\u001b[33mx, y\u001b[39;49;00m\u001b[33m\"\u001b[39;49;00m, test_cases)\u001b[90m\u001b[39;49;00m\n",
      "    \u001b[94mdef\u001b[39;49;00m\u001b[90m \u001b[39;49;00m\u001b[92mtest_hypot_cases\u001b[39;49;00m(x, y):\u001b[90m\u001b[39;49;00m\n",
      "        result = hypot(x, y)\u001b[90m\u001b[39;49;00m\n",
      "        ref = math.hypot(x, y)\u001b[90m\u001b[39;49;00m\n",
      ">       \u001b[94massert\u001b[39;49;00m math.isclose(result, ref)\u001b[90m\u001b[39;49;00m\n",
      "\u001b[1m\u001b[31mE       assert False\u001b[0m\n",
      "\u001b[1m\u001b[31mE        +  where False = <built-in function isclose>(0.0, 1.414213562373095e-200)\u001b[0m\n",
      "\u001b[1m\u001b[31mE        +    where <built-in function isclose> = math.isclose\u001b[0m\n",
      "\n",
      "\u001b[1m\u001b[31m/var/folders/57/pnx444_s0j54vc7rxdm_jn0c0000gp/T/ipykernel_33776/1219071305.py\u001b[0m:15: AssertionError\n",
      "\u001b[31m\u001b[1m_________________________________ test_hypot_cases[1e+200-1e+200] __________________________________\u001b[0m\n",
      "\n",
      "x = 1e+200, y = 1e+200\n",
      "\n",
      "    \u001b[0m\u001b[37m@pytest\u001b[39;49;00m.mark.parametrize(\u001b[33m\"\u001b[39;49;00m\u001b[33mx, y\u001b[39;49;00m\u001b[33m\"\u001b[39;49;00m, test_cases)\u001b[90m\u001b[39;49;00m\n",
      "    \u001b[94mdef\u001b[39;49;00m\u001b[90m \u001b[39;49;00m\u001b[92mtest_hypot_cases\u001b[39;49;00m(x, y):\u001b[90m\u001b[39;49;00m\n",
      "        result = hypot(x, y)\u001b[90m\u001b[39;49;00m\n",
      "        ref = math.hypot(x, y)\u001b[90m\u001b[39;49;00m\n",
      ">       \u001b[94massert\u001b[39;49;00m math.isclose(result, ref)\u001b[90m\u001b[39;49;00m\n",
      "\u001b[1m\u001b[31mE       assert False\u001b[0m\n",
      "\u001b[1m\u001b[31mE        +  where False = <built-in function isclose>(inf, 1.414213562373095e+200)\u001b[0m\n",
      "\u001b[1m\u001b[31mE        +    where <built-in function isclose> = math.isclose\u001b[0m\n",
      "\n",
      "\u001b[1m\u001b[31m/var/folders/57/pnx444_s0j54vc7rxdm_jn0c0000gp/T/ipykernel_33776/1219071305.py\u001b[0m:15: AssertionError\n",
      "\u001b[36m\u001b[1m===================================== short test summary info ======================================\u001b[0m\n",
      "\u001b[31mFAILED\u001b[0m t_1e9dee181610449d980e9c0f1304c186.py::\u001b[1mtest_hypot_cases[1e-200-1e-200]\u001b[0m - assert False\n",
      "\u001b[31mFAILED\u001b[0m t_1e9dee181610449d980e9c0f1304c186.py::\u001b[1mtest_hypot_cases[1e+200-1e+200]\u001b[0m - assert False\n",
      "\u001b[31m\u001b[31m\u001b[1m2 failed\u001b[0m, \u001b[32m3 passed\u001b[0m\u001b[31m in 0.04s\u001b[0m\u001b[0m\n"
     ]
    },
    {
     "data": {
      "text/plain": [
       "<ExitCode.TESTS_FAILED: 1>"
      ]
     },
     "execution_count": 3,
     "metadata": {},
     "output_type": "execute_result"
    }
   ],
   "source": [
    "ipytest.clean()\n",
    "\n",
    "test_cases = [\n",
    "    (3.0, 4.0),\n",
    "    (1e-200, 1e-200),\n",
    "    (1.0, 1e-16),\n",
    "    (1e+200, 1e+200),\n",
    "    (0.0, 0.0),\n",
    "]\n",
    "\n",
    "@pytest.mark.parametrize(\"x, y\", test_cases)\n",
    "def test_hypot_cases(x, y):\n",
    "    result = hypot(x, y)\n",
    "    ref = math.hypot(x, y)\n",
    "    assert math.isclose(result, ref)\n",
    "\n",
    "ipytest.run()"
   ]
  },
  {
   "cell_type": "markdown",
   "id": "65b36015",
   "metadata": {},
   "source": [
    "## Observations"
   ]
  },
  {
   "cell_type": "code",
   "execution_count": null,
   "id": "01fc88c9",
   "metadata": {},
   "outputs": [],
   "source": []
  }
 ],
 "metadata": {
  "kernelspec": {
   "display_name": "nla-example (3.12.11)",
   "language": "python",
   "name": "python3"
  },
  "language_info": {
   "codemirror_mode": {
    "name": "ipython",
    "version": 3
   },
   "file_extension": ".py",
   "mimetype": "text/x-python",
   "name": "python",
   "nbconvert_exporter": "python",
   "pygments_lexer": "ipython3",
   "version": "3.12.11"
  }
 },
 "nbformat": 4,
 "nbformat_minor": 5
}
